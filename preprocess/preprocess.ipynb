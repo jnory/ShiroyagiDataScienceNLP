{
 "cells": [
  {
   "cell_type": "code",
   "execution_count": 1,
   "metadata": {
    "collapsed": false
   },
   "outputs": [],
   "source": [
    "%matplotlib inline\n",
    "%load_ext autoreload\n",
    "%autoreload 2"
   ]
  },
  {
   "cell_type": "code",
   "execution_count": 2,
   "metadata": {
    "collapsed": true
   },
   "outputs": [],
   "source": [
    "import numpy as np\n",
    "import pandas as pd"
   ]
  },
  {
   "cell_type": "code",
   "execution_count": 3,
   "metadata": {
    "collapsed": true
   },
   "outputs": [],
   "source": [
    "from xml.dom.minidom import parseString"
   ]
  },
  {
   "cell_type": "code",
   "execution_count": 4,
   "metadata": {
    "collapsed": true
   },
   "outputs": [],
   "source": [
    "import bz2"
   ]
  },
  {
   "cell_type": "code",
   "execution_count": 5,
   "metadata": {
    "collapsed": true
   },
   "outputs": [],
   "source": [
    "with bz2.open(\"data/jawikinews-20170201-pages-articles.xml.bz2\") as fp:\n",
    "    dom = parseString(fp.read())"
   ]
  },
  {
   "cell_type": "code",
   "execution_count": 6,
   "metadata": {
    "collapsed": true
   },
   "outputs": [],
   "source": [
    "import re"
   ]
  },
  {
   "cell_type": "code",
   "execution_count": 7,
   "metadata": {
    "collapsed": false
   },
   "outputs": [],
   "source": [
    "ascii = re.compile(r\"^[!-~]+$\")\n",
    "def check_text(title, text):\n",
    "    if len(title.childNodes) == 0 or len(text.childNodes) == 0:\n",
    "        return False\n",
    "    \n",
    "    title = title.childNodes[0].data\n",
    "    text = text.childNodes[0].data\n",
    "    \n",
    "    if ascii.match(title):\n",
    "        # タイトルに全角文字を含まないものは除外\n",
    "        return False\n",
    "    if title.startswith(\"MediaWiki:\"):\n",
    "        return False\n",
    "    if title.startswith(\"モジュール:\"):\n",
    "        return False\n",
    "    if title.startswith(\"短信:\"):\n",
    "        return False\n",
    "    if title.startswith(\"ファイル:\"):\n",
    "        return False\n",
    "    if title.startswith(\"テンプレート:\"):\n",
    "        return False\n",
    "    if title.startswith(\"ウィキニュース:\"):\n",
    "        return False\n",
    "    if title.startswith(\"カテゴリ:\"):\n",
    "        return False\n",
    "    if title.startswith(\"ポータル:\"):\n",
    "        return False\n",
    "    if title.startswith(\"ヘルプ:\"):\n",
    "        return False\n",
    "    if text.lower().startswith(\"#redirect\") or text.startswith(\"#転送\"):\n",
    "        return False\n",
    "    if title == \"メインページ\" or title == \"オールターナティブメインページ\":\n",
    "        return False\n",
    "    return True\n",
    "\n",
    "titles = []\n",
    "texts = []\n",
    "for page in dom.getElementsByTagName(\"page\"):\n",
    "    title = page.getElementsByTagName(\"title\")[0]\n",
    "    text = page.getElementsByTagName(\"text\")[0]\n",
    "    \n",
    "    if check_text(title, text):\n",
    "        titles.append(title.childNodes[0].data)\n",
    "        texts.append(text.childNodes[0].data)"
   ]
  },
  {
   "cell_type": "code",
   "execution_count": 8,
   "metadata": {
    "collapsed": false
   },
   "outputs": [
    {
     "name": "stdout",
     "output_type": "stream",
     "text": [
      "Requirement already satisfied (use --upgrade to upgrade): mwparserfromhell in /Users/arrow/anaconda/lib/python3.5/site-packages\r\n",
      "\u001b[33mYou are using pip version 8.1.2, however version 9.0.1 is available.\r\n",
      "You should consider upgrading via the 'pip install --upgrade pip' command.\u001b[0m\r\n"
     ]
    }
   ],
   "source": [
    "! pip install mwparserfromhell"
   ]
  },
  {
   "cell_type": "code",
   "execution_count": 9,
   "metadata": {
    "collapsed": true
   },
   "outputs": [],
   "source": [
    "import mwparserfromhell as mw"
   ]
  },
  {
   "cell_type": "code",
   "execution_count": 10,
   "metadata": {
    "collapsed": true
   },
   "outputs": [],
   "source": [
    "wp_link = re.compile(r\"{{W\\|(.*?)}}\")\n",
    "wp_image = re.compile(r\"\\[\\[[^\\n]*?(thumb|thumbnail|frame)\\|.*?\\]\\]\", re.MULTILINE | re.DOTALL)\n",
    "wp_category = re.compile(r\"\\[\\[Category:.*?\\]\\]\")\n",
    "wp_magic = re.compile(r\"__(.*?)__\")\n",
    "def normalize(text):\n",
    "    return wp_magic.sub(r\"\", wp_category.sub(r\"\", wp_image.sub(r\"\", wp_link.sub(r\"\\1\", text))))"
   ]
  },
  {
   "cell_type": "code",
   "execution_count": 11,
   "metadata": {
    "collapsed": false
   },
   "outputs": [],
   "source": [
    "contents = []\n",
    "for i, text in enumerate(texts):\n",
    "    content = mw.parse(normalize(text))\n",
    "    content = content.strip_code()\n",
    "    contents.append(content)"
   ]
  },
  {
   "cell_type": "code",
   "execution_count": 12,
   "metadata": {
    "collapsed": false
   },
   "outputs": [
    {
     "name": "stdout",
     "output_type": "stream",
     "text": [
      "{{日付|2005年7月15日}}\n",
      "\n",
      "[[画像:Location ShiretokoPeninJp.jpg|thumb|今回世界遺産登録された7物件のひとつ、知床半島の位置]]\n",
      "\n",
      "2005年7月14日、[[w:南アフリカ共和国|南アフリカ共和国]][[w:ダーバン|ダーバン]]で開催中の第29回世界遺産会議で、[[w:ノルウェー|ノルウェー]]の[[w:フィヨルド|フィヨルド]]と[[w:日本|日本]]の[[w:知床半島|知床半島]]（[[w:北海道|北海道]]）含め世界7カ所が[[w:ユネスコ|ユネスコ]]の[[w:世界遺産|世界自然遺産]]に登録された。また既存2カ所の自然遺産の登録範囲の拡張が認められた。この追加により、登録された世界遺産の数は、自然遺産160、複合遺産24となる。\n",
      "\n",
      "知床半島は、[[w:日本|日本]]国内では、[[w:屋久島|屋久島]]、[[w:白神山地|白神山地]]につぐ三番目の世界自然遺産になった。北海道内では、文化遺産、複合遺産をあわせ、はじめての世界遺産登録である。<!--登録された範囲は……（具体的な数字と行政地名）。-->\n",
      "\n",
      "知床半島は[[w:羅臼岳|羅臼岳]](1660m)などを含む知床火山層を中心に形成され、[[w:オホーツク海|オホーツク海]]に突き出た半島である。山間部には針葉樹のエゾマツ、トドマツや広葉樹のダケカンバ、ミズナラの原生林がしげり、山頂部や稜線には高山植物群落がみられる。また冬季には流氷がみられ、海面が凍結する。知床半島の世界遺産登録に際しては、こうした自然環境における特色ある豊かな[[w:生態系|生態系]]、とりわけ[[w:絶滅危惧種|絶滅危惧種]]を含む生物種の保存への意義が高く評価された。知床半島に生息する動物には、トドや[[w:クジラ目|クジラ]]などの海域に生息する哺乳類、[[w:ヒグマ|ヒグマ]]、[[w:シマフクロウ|シマフクロウ]]を含む野鳥類などがある。\n",
      "\n",
      "知床半島中部から先の山岳部と海岸部は1964年知床国立公園に指定された。その後、知床岬周辺は規制の厳しい特別保護地区に指定されるとともに立ち入りが禁止されている。（日本語版ウィキペディア「知床半島」より）。\n",
      "\n",
      "今回登録された世界自然遺産は、先の2つを含め、以下の7つである。\n",
      "*フレーデフォート・ドーム（[[w:南アフリカ|南アフリカ]]）\n",
      "*ワジ・アル＝ヒタンの鯨渓谷（[[w:エジプト|エジプト]]）\n",
      "*[[w:知床 (世界遺産)|知床]]（日本）\n",
      "*西ノルウェーのフィヨルド、ガイランゲル・フィヨルドおよびナールオイ・フィヨルド（ノルウェー）[[画像:Sognefjord, Norway.jpg|thumb|240px|ノルウェーのフィヨルド（参考画像）]]\n",
      "*カリフォルニア湾の諸島および保護地域（[[w:メキシコ|メキシコ]]）\n",
      "*[[w:ドンパヤーイェン-カオヤイ森林地帯|ドンパヤーイェン――カオヤイ森林地帯]]（[[w:タイ王国|タイ]]）\n",
      "*コイバ国立公園とその海洋保護特別地域（[[w:パナマ|パナマ]]）\n",
      "また、以下の2つの世界自然遺産の登録範囲が拡張された。\n",
      "*フラワーズ渓谷国立公園（[[w:インド|インド]]）\n",
      "*[[w:セントキルダ島|セント・キルダ]]（[[w:イギリス|イギリス]]）\n",
      "\n",
      "世界遺産会議はユネスコ主催で年一回開催され、世界遺産の新規登録や登録物件の現状の評価などを行う。世界遺産の登録にあたっては、登録を求める地域の担当政府機関が候補地を推薦し、ユネスコ世界遺産委員会に暫定リストを提出する。委員会は国連機関に現地調査を依頼し、その結果を受けて登録推薦を行い、年1回開催される世界遺産会議で正式な登録を行う。登録後は、保全状況を6年ごとに報告し、世界遺産委員会での再審査を受ける必要がある。\n",
      "\n",
      "自然遺産の決定に先立ち、水曜日13日には、世界遺産会議は、保全努力で好成績をあげた危機遺産リストの3件の取り消しを決定している。危機遺産リストから取り消されたのは、 {{W|エクアドル}}のサンガイ国立公園、{{W|マリ}}の{{W|トンブクトゥ}}、{{W|アルバニア}}のブトリントである。\n",
      "\n",
      "世界遺産会議は7月17日まで続き、文化遺産と[[w:世界遺産の一覧 (危機遺産リスト)|危機遺産リスト]]への新規登録を審議する。\n",
      "\n",
      "== 出典 ==\n",
      "*{{出典・欧文|著者=UNESCOPRESS\n",
      "|url=http://whc.unesco.org/en/news/134\n",
      "|タイトル=Norwegian Fjords and Japan’s Shiretoko peninsula are among the seven natural sites added to UNESCO’s World Heritage List\n",
      "|発行者=UNESCO Press Relations\n",
      "|日付=2005年7月14日}}（英語）\n",
      "\n",
      "*{{出典・ウェブ|著者=斜里町役場 総務環境部 環境保全課 自然保護係\n",
      "|url=http://www.town.shari.hokkaido.jp/he2005/index.html\n",
      "|タイトル=「知床」世界自然遺産登録決定！\n",
      "|発行者=斜里町\n",
      "|日付=2005年7月14日}}\n",
      "\n",
      "*{{出典・ウェブ|著者=毎日新聞社 白戸圭一\n",
      "|url=http://www.mainichi-msn.co.jp/today/news/20050715k0000m040028000c.html\n",
      "|タイトル=ユネスコ：知床を世界自然遺産に決定　国内３番目\n",
      "|発行者=MSN毎日インタラクティブ\n",
      "|日付=2005年7月14日}}\n",
      "\n",
      "*{{出典・ウェブ|著者= 国際自然保護連合 (IUCN)\n",
      "|url=http://www.iucn.jp/news/050714a.htm\n",
      "|タイトル= <速報>知床が、世界自然遺産に\n",
      "|発行者=国際自然保護連合\n",
      "|日付=2005年7月14日}}\n",
      "\n",
      "*{{出典・ウェブ|著者=\n",
      "|url=http://flash24.kyodo.co.jp/?MID=MYZ&PG=STORY&NGID=soci&NWID=2005071501000472\n",
      "|タイトル=知床自然遺産で広報紙号外 斜里町が全世帯に配布\n",
      "|発行者=宮崎日日新聞\n",
      "|日付=2005年7月15日}}\n",
      "\n",
      "*{{出典・ウェブ|著者=社団法人 日本ユネスコ協会連盟\n",
      "|url=http://www.unesco.or.jp/contents/isan/index.html\n",
      "|タイトル=世界遺産活動\n",
      "|発行者=日本ユネスコ協会連盟\n",
      "|日付=2005年7月15日}}\n",
      "\n",
      "*{{出典・ウェブ|著者=\n",
      "|url=http://ja.wikipedia.org/wiki/%E4%B8%96%E7%95%8C%E9%81%BA%E7%94%A3\n",
      "|タイトル=世界遺産\n",
      "|発行者=ウィキペディア日本語版\n",
      "|日付=2005年7月14日}}\n",
      "\n",
      "*{{出典・ウェブ|著者=\n",
      "|url=http://ja.wikipedia.org/wiki/%E7%9F%A5%E5%BA%8A%E5%8D%8A%E5%B3%B6\n",
      "|タイトル=知床半島\n",
      "|発行者=ウィキペディア日本語版\n",
      "|日付=2005年7月15日}}\n",
      "\n",
      "[[Category:アフリカ]]\n",
      "[[Category:北アメリカ]]\n",
      "[[Category:中近東]]\n",
      "[[Category:日本]]\n",
      "[[Category:アジア]]\n",
      "[[Category:ヨーロッパ]]\n",
      "[[Category:南アフリカ]]\n",
      "[[Category:エジプト]]\n",
      "[[Category:メキシコ]]\n",
      "[[Category:パナマ]]\n",
      "[[Category:タイ]]\n",
      "[[Category:北海道]]\n",
      "[[Category:ノルウェー]]\n",
      "[[Category:インド]]\n",
      "[[Category:イギリス]]\n",
      "[[Category:社会]]\n",
      "[[Category:環境]]\n",
      "{{DEFAULTSORT:せかいしせんいさんに7かしよをついかしれとこはんとうも}}\n",
      "\n",
      "{{公開中}}\n"
     ]
    }
   ],
   "source": [
    "print(texts[0])"
   ]
  },
  {
   "cell_type": "code",
   "execution_count": 13,
   "metadata": {
    "collapsed": false
   },
   "outputs": [
    {
     "name": "stdout",
     "output_type": "stream",
     "text": [
      "2005年7月14日、南アフリカ共和国ダーバンで開催中の第29回世界遺産会議で、ノルウェーのフィヨルドと日本の知床半島（北海道）含め世界7カ所がユネスコの世界自然遺産に登録された。また既存2カ所の自然遺産の登録範囲の拡張が認められた。この追加により、登録された世界遺産の数は、自然遺産160、複合遺産24となる。\n",
      "\n",
      "知床半島は、日本国内では、屋久島、白神山地につぐ三番目の世界自然遺産になった。北海道内では、文化遺産、複合遺産をあわせ、はじめての世界遺産登録である。\n",
      "\n",
      "知床半島は羅臼岳(1660m)などを含む知床火山層を中心に形成され、オホーツク海に突き出た半島である。山間部には針葉樹のエゾマツ、トドマツや広葉樹のダケカンバ、ミズナラの原生林がしげり、山頂部や稜線には高山植物群落がみられる。また冬季には流氷がみられ、海面が凍結する。知床半島の世界遺産登録に際しては、こうした自然環境における特色ある豊かな生態系、とりわけ絶滅危惧種を含む生物種の保存への意義が高く評価された。知床半島に生息する動物には、トドやクジラなどの海域に生息する哺乳類、ヒグマ、シマフクロウを含む野鳥類などがある。\n",
      "\n",
      "知床半島中部から先の山岳部と海岸部は1964年知床国立公園に指定された。その後、知床岬周辺は規制の厳しい特別保護地区に指定されるとともに立ち入りが禁止されている。（日本語版ウィキペディア「知床半島」より）。\n",
      "\n",
      "今回登録された世界自然遺産は、先の2つを含め、以下の7つである。\n",
      "フレーデフォート・ドーム（南アフリカ）\n",
      "ワジ・アル＝ヒタンの鯨渓谷（エジプト）\n",
      "知床（日本）\n",
      "西ノルウェーのフィヨルド、ガイランゲル・フィヨルドおよびナールオイ・フィヨルド（ノルウェー）\n",
      "カリフォルニア湾の諸島および保護地域（メキシコ）\n",
      "ドンパヤーイェン――カオヤイ森林地帯（タイ）\n",
      "コイバ国立公園とその海洋保護特別地域（パナマ）\n",
      "また、以下の2つの世界自然遺産の登録範囲が拡張された。\n",
      "フラワーズ渓谷国立公園（インド）\n",
      "セント・キルダ（イギリス）\n",
      "\n",
      "世界遺産会議はユネスコ主催で年一回開催され、世界遺産の新規登録や登録物件の現状の評価などを行う。世界遺産の登録にあたっては、登録を求める地域の担当政府機関が候補地を推薦し、ユネスコ世界遺産委員会に暫定リストを提出する。委員会は国連機関に現地調査を依頼し、その結果を受けて登録推薦を行い、年1回開催される世界遺産会議で正式な登録を行う。登録後は、保全状況を6年ごとに報告し、世界遺産委員会での再審査を受ける必要がある。\n",
      "\n",
      "自然遺産の決定に先立ち、水曜日13日には、世界遺産会議は、保全努力で好成績をあげた危機遺産リストの3件の取り消しを決定している。危機遺産リストから取り消されたのは、 エクアドルのサンガイ国立公園、マリのトンブクトゥ、アルバニアのブトリントである。\n",
      "\n",
      "世界遺産会議は7月17日まで続き、文化遺産と危機遺産リストへの新規登録を審議する。\n",
      "\n",
      " 出典 \n",
      "（英語）\n"
     ]
    }
   ],
   "source": [
    "print(contents[0])"
   ]
  },
  {
   "cell_type": "code",
   "execution_count": 14,
   "metadata": {
    "collapsed": false
   },
   "outputs": [],
   "source": [
    "import json\n",
    "import gzip\n",
    "with gzip.open(\"data/jawikinews-20170201.json.gz\", \"w\") as fp:\n",
    "    fp.write(json.dumps(dict(title=titles, text=contents), ensure_ascii=False).encode(\"utf-8\"))"
   ]
  },
  {
   "cell_type": "code",
   "execution_count": null,
   "metadata": {
    "collapsed": true
   },
   "outputs": [],
   "source": []
  }
 ],
 "metadata": {
  "anaconda-cloud": {},
  "kernelspec": {
   "display_name": "Python [Root]",
   "language": "python",
   "name": "Python [Root]"
  },
  "language_info": {
   "codemirror_mode": {
    "name": "ipython",
    "version": 3
   },
   "file_extension": ".py",
   "mimetype": "text/x-python",
   "name": "python",
   "nbconvert_exporter": "python",
   "pygments_lexer": "ipython3",
   "version": "3.5.2"
  }
 },
 "nbformat": 4,
 "nbformat_minor": 0
}
